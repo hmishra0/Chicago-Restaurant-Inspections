{
 "cells": [
  {
   "cell_type": "code",
   "execution_count": 1,
   "metadata": {},
   "outputs": [],
   "source": [
    "# Importing required libraries \n",
    "\n",
    "import pandas as pd\n",
    "import numpy as np\n",
    "\n",
    "import datetime\n",
    "import itertools\n",
    "import warnings\n",
    "warnings.filterwarnings(\"ignore\")\n",
    "\n",
    "import seaborn as sns\n",
    "import matplotlib\n",
    "import matplotlib.pyplot as plt\n",
    "\n",
    "import statsmodels.api as sm\n",
    "\n",
    "from sklearn import model_selection\n",
    "from sklearn import metrics\n",
    "from sklearn.tree import DecisionTreeClassifier\n",
    "from sklearn.svm import LinearSVC\n",
    "from sklearn.svm import SVC\n",
    "from sklearn.ensemble import RandomForestClassifier"
   ]
  },
  {
   "cell_type": "code",
   "execution_count": 2,
   "metadata": {},
   "outputs": [
    {
     "data": {
      "text/html": [
       "<div>\n",
       "<style scoped>\n",
       "    .dataframe tbody tr th:only-of-type {\n",
       "        vertical-align: middle;\n",
       "    }\n",
       "\n",
       "    .dataframe tbody tr th {\n",
       "        vertical-align: top;\n",
       "    }\n",
       "\n",
       "    .dataframe thead th {\n",
       "        text-align: right;\n",
       "    }\n",
       "</style>\n",
       "<table border=\"1\" class=\"dataframe\">\n",
       "  <thead>\n",
       "    <tr style=\"text-align: right;\">\n",
       "      <th></th>\n",
       "      <th>DBA Name</th>\n",
       "      <th>AKA Name</th>\n",
       "      <th>License #</th>\n",
       "      <th>Facility Type</th>\n",
       "      <th>Risk</th>\n",
       "      <th>Address</th>\n",
       "      <th>City</th>\n",
       "      <th>State</th>\n",
       "      <th>Zip</th>\n",
       "      <th>Inspection Date</th>\n",
       "      <th>Inspection Type</th>\n",
       "      <th>Results</th>\n",
       "      <th>Violations</th>\n",
       "      <th>Latitude</th>\n",
       "      <th>Longitude</th>\n",
       "      <th>Location</th>\n",
       "    </tr>\n",
       "  </thead>\n",
       "  <tbody>\n",
       "    <tr>\n",
       "      <td>0</td>\n",
       "      <td>MANOLO'S TAMALES #3</td>\n",
       "      <td>MANOLO'S TAMALES #3</td>\n",
       "      <td>2307811</td>\n",
       "      <td>Restaurant</td>\n",
       "      <td>High</td>\n",
       "      <td>2455 S KEDZIE AVE</td>\n",
       "      <td>CHICAGO</td>\n",
       "      <td>IL</td>\n",
       "      <td>60623.0</td>\n",
       "      <td>12/4/18</td>\n",
       "      <td>Complaint Re-Inspection</td>\n",
       "      <td>Fail</td>\n",
       "      <td>3. MANAGEMENT, FOOD EMPLOYEE AND CONDITIONAL E...</td>\n",
       "      <td>41.846539</td>\n",
       "      <td>-87.704953</td>\n",
       "      <td>(41.846538888991475, -87.70495285575998)</td>\n",
       "    </tr>\n",
       "    <tr>\n",
       "      <td>1</td>\n",
       "      <td>WOLFGANG EXPRESS</td>\n",
       "      <td>WOLFGANG PUCK EXPRESS (T3 K12)</td>\n",
       "      <td>34199</td>\n",
       "      <td>Restaurant</td>\n",
       "      <td>High</td>\n",
       "      <td>11601 W TOUHY AVE</td>\n",
       "      <td>CHICAGO</td>\n",
       "      <td>IL</td>\n",
       "      <td>60666.0</td>\n",
       "      <td>3/26/19</td>\n",
       "      <td>Canvass</td>\n",
       "      <td>Fail</td>\n",
       "      <td>10. ADEQUATE HANDWASHING SINKS PROPERLY SUPPLI...</td>\n",
       "      <td>42.008536</td>\n",
       "      <td>-87.914428</td>\n",
       "      <td>(42.008536400868735, -87.91442843927047)</td>\n",
       "    </tr>\n",
       "    <tr>\n",
       "      <td>2</td>\n",
       "      <td>PASTORAL</td>\n",
       "      <td>BAR PASTORAL</td>\n",
       "      <td>2157189</td>\n",
       "      <td>Restaurant</td>\n",
       "      <td>High</td>\n",
       "      <td>2945-2947 N BROADWAY AVE</td>\n",
       "      <td>CHICAGO</td>\n",
       "      <td>IL</td>\n",
       "      <td>60657.0</td>\n",
       "      <td>8/2/19</td>\n",
       "      <td>Canvass</td>\n",
       "      <td>Pass w/ Conditions</td>\n",
       "      <td>1. PERSON IN CHARGE PRESENT, DEMONSTRATES KNOW...</td>\n",
       "      <td>41.936248</td>\n",
       "      <td>-87.644121</td>\n",
       "      <td>(41.93624830273888, -87.64412091275041)</td>\n",
       "    </tr>\n",
       "    <tr>\n",
       "      <td>3</td>\n",
       "      <td>JIEYI SUSHI</td>\n",
       "      <td>JIEYI SUSHI</td>\n",
       "      <td>2506880</td>\n",
       "      <td>Restaurant</td>\n",
       "      <td>High</td>\n",
       "      <td>1178 N MILWAUKEE AVE</td>\n",
       "      <td>CHICAGO</td>\n",
       "      <td>IL</td>\n",
       "      <td>60642.0</td>\n",
       "      <td>6/25/19</td>\n",
       "      <td>Canvass Re-Inspection</td>\n",
       "      <td>Pass w/ Conditions</td>\n",
       "      <td>23. PROPER DATE MARKING AND DISPOSITION - Comm...</td>\n",
       "      <td>41.903119</td>\n",
       "      <td>-87.666337</td>\n",
       "      <td>(41.90311911873191, -87.6663365256722)</td>\n",
       "    </tr>\n",
       "    <tr>\n",
       "      <td>4</td>\n",
       "      <td>GHAREEB NAWAZ RESTAURANT</td>\n",
       "      <td>GHAREEB NAWAZ RESTAURANT</td>\n",
       "      <td>2423912</td>\n",
       "      <td>Restaurant</td>\n",
       "      <td>High</td>\n",
       "      <td>2032-2036 W Devon AVE</td>\n",
       "      <td>CHICAGO</td>\n",
       "      <td>IL</td>\n",
       "      <td>60659.0</td>\n",
       "      <td>4/2/19</td>\n",
       "      <td>Suspected Food Poisoning</td>\n",
       "      <td>Pass w/ Conditions</td>\n",
       "      <td>3. MANAGEMENT, FOOD EMPLOYEE AND CONDITIONAL E...</td>\n",
       "      <td>41.997984</td>\n",
       "      <td>-87.681420</td>\n",
       "      <td>(41.99798375025185, -87.68142044788961)</td>\n",
       "    </tr>\n",
       "  </tbody>\n",
       "</table>\n",
       "</div>"
      ],
      "text/plain": [
       "                   DBA Name                        AKA Name  License #  \\\n",
       "0       MANOLO'S TAMALES #3             MANOLO'S TAMALES #3    2307811   \n",
       "1          WOLFGANG EXPRESS  WOLFGANG PUCK EXPRESS (T3 K12)      34199   \n",
       "2                  PASTORAL                    BAR PASTORAL    2157189   \n",
       "3               JIEYI SUSHI                     JIEYI SUSHI    2506880   \n",
       "4  GHAREEB NAWAZ RESTAURANT        GHAREEB NAWAZ RESTAURANT    2423912   \n",
       "\n",
       "  Facility Type  Risk                   Address     City State      Zip  \\\n",
       "0    Restaurant  High         2455 S KEDZIE AVE  CHICAGO    IL  60623.0   \n",
       "1    Restaurant  High         11601 W TOUHY AVE  CHICAGO    IL  60666.0   \n",
       "2    Restaurant  High  2945-2947 N BROADWAY AVE  CHICAGO    IL  60657.0   \n",
       "3    Restaurant  High      1178 N MILWAUKEE AVE  CHICAGO    IL  60642.0   \n",
       "4    Restaurant  High     2032-2036 W Devon AVE  CHICAGO    IL  60659.0   \n",
       "\n",
       "  Inspection Date           Inspection Type             Results  \\\n",
       "0         12/4/18   Complaint Re-Inspection                Fail   \n",
       "1         3/26/19                   Canvass                Fail   \n",
       "2          8/2/19                   Canvass  Pass w/ Conditions   \n",
       "3         6/25/19     Canvass Re-Inspection  Pass w/ Conditions   \n",
       "4          4/2/19  Suspected Food Poisoning  Pass w/ Conditions   \n",
       "\n",
       "                                          Violations   Latitude  Longitude  \\\n",
       "0  3. MANAGEMENT, FOOD EMPLOYEE AND CONDITIONAL E...  41.846539 -87.704953   \n",
       "1  10. ADEQUATE HANDWASHING SINKS PROPERLY SUPPLI...  42.008536 -87.914428   \n",
       "2  1. PERSON IN CHARGE PRESENT, DEMONSTRATES KNOW...  41.936248 -87.644121   \n",
       "3  23. PROPER DATE MARKING AND DISPOSITION - Comm...  41.903119 -87.666337   \n",
       "4  3. MANAGEMENT, FOOD EMPLOYEE AND CONDITIONAL E...  41.997984 -87.681420   \n",
       "\n",
       "                                   Location  \n",
       "0  (41.846538888991475, -87.70495285575998)  \n",
       "1  (42.008536400868735, -87.91442843927047)  \n",
       "2   (41.93624830273888, -87.64412091275041)  \n",
       "3    (41.90311911873191, -87.6663365256722)  \n",
       "4   (41.99798375025185, -87.68142044788961)  "
      ]
     },
     "execution_count": 2,
     "metadata": {},
     "output_type": "execute_result"
    }
   ],
   "source": [
    "df = pd.read_csv('datasets/chicago_restaurant_inspections.csv')\n",
    "df.head(5)"
   ]
  },
  {
   "cell_type": "code",
   "execution_count": 3,
   "metadata": {},
   "outputs": [
    {
     "name": "stdout",
     "output_type": "stream",
     "text": [
      "<class 'pandas.core.frame.DataFrame'>\n",
      "RangeIndex: 123388 entries, 0 to 123387\n",
      "Data columns (total 16 columns):\n",
      "DBA Name           123388 non-null object\n",
      "AKA Name           122380 non-null object\n",
      "License #          123388 non-null int64\n",
      "Facility Type      123388 non-null object\n",
      "Risk               123388 non-null object\n",
      "Address            123388 non-null object\n",
      "City               123320 non-null object\n",
      "State              123366 non-null object\n",
      "Zip                123365 non-null float64\n",
      "Inspection Date    123388 non-null object\n",
      "Inspection Type    123388 non-null object\n",
      "Results            123388 non-null object\n",
      "Violations         93325 non-null object\n",
      "Latitude           123222 non-null float64\n",
      "Longitude          123222 non-null float64\n",
      "Location           123222 non-null object\n",
      "dtypes: float64(3), int64(1), object(12)\n",
      "memory usage: 15.1+ MB\n"
     ]
    }
   ],
   "source": [
    "df.info()"
   ]
  },
  {
   "cell_type": "markdown",
   "metadata": {},
   "source": [
    "### Data preprocessing"
   ]
  },
  {
   "cell_type": "code",
   "execution_count": 4,
   "metadata": {
    "scrolled": true
   },
   "outputs": [
    {
     "name": "stdout",
     "output_type": "stream",
     "text": [
      "<class 'pandas.core.frame.DataFrame'>\n",
      "RangeIndex: 123388 entries, 0 to 123387\n",
      "Data columns (total 16 columns):\n",
      "DBA Name           123388 non-null category\n",
      "AKA Name           122380 non-null object\n",
      "license            123388 non-null int64\n",
      "Facility Type      123388 non-null object\n",
      "Risk               123388 non-null category\n",
      "Address            123388 non-null object\n",
      "City               123320 non-null object\n",
      "State              123366 non-null object\n",
      "Zip                123365 non-null category\n",
      "Inspection Date    123388 non-null object\n",
      "Inspection Type    123388 non-null category\n",
      "Results            123388 non-null object\n",
      "Violations         93325 non-null object\n",
      "Latitude           123222 non-null float64\n",
      "Longitude          123222 non-null float64\n",
      "Location           123222 non-null object\n",
      "dtypes: category(4), float64(2), int64(1), object(9)\n",
      "memory usage: 12.6+ MB\n"
     ]
    }
   ],
   "source": [
    "df.rename(columns={\"License #\": \"license\"}, inplace=True)\n",
    "df['Inspection Type'] = df['Inspection Type'].astype('category')\n",
    "df['Risk'] = df['Risk'].astype('category')\n",
    "df['DBA Name'] = df['DBA Name'].astype('category')\n",
    "df['Zip'] = df['Zip'].astype('category')\n",
    "# Convert latitude & longitude to floats\n",
    "df.Latitude = df.Latitude.astype(float)\n",
    "df.Longitude = df.Longitude.astype(float)\n",
    "df.info()"
   ]
  },
  {
   "cell_type": "code",
   "execution_count": 5,
   "metadata": {},
   "outputs": [
    {
     "data": {
      "text/plain": [
       "High      99664\n",
       "Medium    22530\n",
       "Low        1194\n",
       "Name: Risk, dtype: int64"
      ]
     },
     "execution_count": 5,
     "metadata": {},
     "output_type": "execute_result"
    }
   ],
   "source": [
    "df.Risk.value_counts()"
   ]
  },
  {
   "cell_type": "code",
   "execution_count": 6,
   "metadata": {},
   "outputs": [
    {
     "data": {
      "text/plain": [
       "SUBWAY                                 2525\n",
       "DUNKIN DONUTS                          1293\n",
       "MCDONALD'S                              488\n",
       "CHIPOTLE MEXICAN GRILL                  292\n",
       "MCDONALDS                               282\n",
       "                                       ... \n",
       "BOMBON CAFE CORPORATION                   1\n",
       "LIMITLESS COFFEE                          1\n",
       "LILIW M3 ORIENTAL STORE INC.              1\n",
       "BON MANGER / THE FRENCH MARKET CAFE       1\n",
       "vitino pizzeria                           1\n",
       "Name: DBA Name, Length: 14030, dtype: int64"
      ]
     },
     "execution_count": 6,
     "metadata": {},
     "output_type": "execute_result"
    }
   ],
   "source": [
    "df['DBA Name'].value_counts()"
   ]
  },
  {
   "cell_type": "code",
   "execution_count": 7,
   "metadata": {},
   "outputs": [],
   "source": [
    "# Drop \"0\" licenses\n",
    "df = df[df.license != \"0\"]"
   ]
  },
  {
   "cell_type": "code",
   "execution_count": 8,
   "metadata": {},
   "outputs": [
    {
     "data": {
      "text/plain": [
       "Pass                    64370\n",
       "Fail                    22384\n",
       "Pass w/ Conditions      20741\n",
       "Out of Business          9156\n",
       "No Entry                 5443\n",
       "Not Ready                1273\n",
       "Business Not Located       21\n",
       "Name: Results, dtype: int64"
      ]
     },
     "execution_count": 8,
     "metadata": {},
     "output_type": "execute_result"
    }
   ],
   "source": [
    "df['Results'] = df['Results'].astype('category')\n",
    "df['Results'].value_counts()"
   ]
  },
  {
   "cell_type": "code",
   "execution_count": 9,
   "metadata": {},
   "outputs": [
    {
     "data": {
      "text/plain": [
       "Pass                  64370\n",
       "Fail                  22384\n",
       "Pass w/ Conditions    20741\n",
       "Name: Results, dtype: int64"
      ]
     },
     "execution_count": 9,
     "metadata": {},
     "output_type": "execute_result"
    }
   ],
   "source": [
    "# Only consider successful inspections\n",
    "df = df[~df.Results.isin([\"Out of Business\", \"Not Ready\", \"Business Not Located\", \"No Entry\"])]\n",
    "df['Results'] = df['Results'].cat.remove_unused_categories()\n",
    "df['Results'].value_counts()"
   ]
  },
  {
   "cell_type": "markdown",
   "metadata": {},
   "source": [
    "### Creating features"
   ]
  },
  {
   "cell_type": "code",
   "execution_count": 10,
   "metadata": {
    "scrolled": true
   },
   "outputs": [
    {
     "data": {
      "text/html": [
       "<div>\n",
       "<style scoped>\n",
       "    .dataframe tbody tr th:only-of-type {\n",
       "        vertical-align: middle;\n",
       "    }\n",
       "\n",
       "    .dataframe tbody tr th {\n",
       "        vertical-align: top;\n",
       "    }\n",
       "\n",
       "    .dataframe thead th {\n",
       "        text-align: right;\n",
       "    }\n",
       "</style>\n",
       "<table border=\"1\" class=\"dataframe\">\n",
       "  <thead>\n",
       "    <tr style=\"text-align: right;\">\n",
       "      <th></th>\n",
       "      <th>DBA Name</th>\n",
       "      <th>AKA Name</th>\n",
       "      <th>license</th>\n",
       "      <th>Facility Type</th>\n",
       "      <th>Risk</th>\n",
       "      <th>Address</th>\n",
       "      <th>City</th>\n",
       "      <th>State</th>\n",
       "      <th>Zip</th>\n",
       "      <th>Inspection Date</th>\n",
       "      <th>Inspection Type</th>\n",
       "      <th>Results</th>\n",
       "      <th>Violations</th>\n",
       "      <th>Latitude</th>\n",
       "      <th>Longitude</th>\n",
       "      <th>Location</th>\n",
       "      <th>y</th>\n",
       "      <th>complaint</th>\n",
       "      <th>reinspection</th>\n",
       "    </tr>\n",
       "  </thead>\n",
       "  <tbody>\n",
       "    <tr>\n",
       "      <td>0</td>\n",
       "      <td>MANOLO'S TAMALES #3</td>\n",
       "      <td>MANOLO'S TAMALES #3</td>\n",
       "      <td>2307811</td>\n",
       "      <td>Restaurant</td>\n",
       "      <td>High</td>\n",
       "      <td>2455 S KEDZIE AVE</td>\n",
       "      <td>CHICAGO</td>\n",
       "      <td>IL</td>\n",
       "      <td>60623.0</td>\n",
       "      <td>12/4/18</td>\n",
       "      <td>Complaint Re-Inspection</td>\n",
       "      <td>Fail</td>\n",
       "      <td>3. MANAGEMENT, FOOD EMPLOYEE AND CONDITIONAL E...</td>\n",
       "      <td>41.846539</td>\n",
       "      <td>-87.704953</td>\n",
       "      <td>(41.846538888991475, -87.70495285575998)</td>\n",
       "      <td>1</td>\n",
       "      <td>1</td>\n",
       "      <td>1</td>\n",
       "    </tr>\n",
       "    <tr>\n",
       "      <td>1</td>\n",
       "      <td>WOLFGANG EXPRESS</td>\n",
       "      <td>WOLFGANG PUCK EXPRESS (T3 K12)</td>\n",
       "      <td>34199</td>\n",
       "      <td>Restaurant</td>\n",
       "      <td>High</td>\n",
       "      <td>11601 W TOUHY AVE</td>\n",
       "      <td>CHICAGO</td>\n",
       "      <td>IL</td>\n",
       "      <td>60666.0</td>\n",
       "      <td>3/26/19</td>\n",
       "      <td>Canvass</td>\n",
       "      <td>Fail</td>\n",
       "      <td>10. ADEQUATE HANDWASHING SINKS PROPERLY SUPPLI...</td>\n",
       "      <td>42.008536</td>\n",
       "      <td>-87.914428</td>\n",
       "      <td>(42.008536400868735, -87.91442843927047)</td>\n",
       "      <td>1</td>\n",
       "      <td>0</td>\n",
       "      <td>0</td>\n",
       "    </tr>\n",
       "    <tr>\n",
       "      <td>2</td>\n",
       "      <td>PASTORAL</td>\n",
       "      <td>BAR PASTORAL</td>\n",
       "      <td>2157189</td>\n",
       "      <td>Restaurant</td>\n",
       "      <td>High</td>\n",
       "      <td>2945-2947 N BROADWAY AVE</td>\n",
       "      <td>CHICAGO</td>\n",
       "      <td>IL</td>\n",
       "      <td>60657.0</td>\n",
       "      <td>8/2/19</td>\n",
       "      <td>Canvass</td>\n",
       "      <td>Pass w/ Conditions</td>\n",
       "      <td>1. PERSON IN CHARGE PRESENT, DEMONSTRATES KNOW...</td>\n",
       "      <td>41.936248</td>\n",
       "      <td>-87.644121</td>\n",
       "      <td>(41.93624830273888, -87.64412091275041)</td>\n",
       "      <td>0</td>\n",
       "      <td>0</td>\n",
       "      <td>0</td>\n",
       "    </tr>\n",
       "    <tr>\n",
       "      <td>3</td>\n",
       "      <td>JIEYI SUSHI</td>\n",
       "      <td>JIEYI SUSHI</td>\n",
       "      <td>2506880</td>\n",
       "      <td>Restaurant</td>\n",
       "      <td>High</td>\n",
       "      <td>1178 N MILWAUKEE AVE</td>\n",
       "      <td>CHICAGO</td>\n",
       "      <td>IL</td>\n",
       "      <td>60642.0</td>\n",
       "      <td>6/25/19</td>\n",
       "      <td>Canvass Re-Inspection</td>\n",
       "      <td>Pass w/ Conditions</td>\n",
       "      <td>23. PROPER DATE MARKING AND DISPOSITION - Comm...</td>\n",
       "      <td>41.903119</td>\n",
       "      <td>-87.666337</td>\n",
       "      <td>(41.90311911873191, -87.6663365256722)</td>\n",
       "      <td>0</td>\n",
       "      <td>0</td>\n",
       "      <td>1</td>\n",
       "    </tr>\n",
       "    <tr>\n",
       "      <td>4</td>\n",
       "      <td>GHAREEB NAWAZ RESTAURANT</td>\n",
       "      <td>GHAREEB NAWAZ RESTAURANT</td>\n",
       "      <td>2423912</td>\n",
       "      <td>Restaurant</td>\n",
       "      <td>High</td>\n",
       "      <td>2032-2036 W Devon AVE</td>\n",
       "      <td>CHICAGO</td>\n",
       "      <td>IL</td>\n",
       "      <td>60659.0</td>\n",
       "      <td>4/2/19</td>\n",
       "      <td>Suspected Food Poisoning</td>\n",
       "      <td>Pass w/ Conditions</td>\n",
       "      <td>3. MANAGEMENT, FOOD EMPLOYEE AND CONDITIONAL E...</td>\n",
       "      <td>41.997984</td>\n",
       "      <td>-87.681420</td>\n",
       "      <td>(41.99798375025185, -87.68142044788961)</td>\n",
       "      <td>0</td>\n",
       "      <td>1</td>\n",
       "      <td>0</td>\n",
       "    </tr>\n",
       "  </tbody>\n",
       "</table>\n",
       "</div>"
      ],
      "text/plain": [
       "                   DBA Name                        AKA Name  license  \\\n",
       "0       MANOLO'S TAMALES #3             MANOLO'S TAMALES #3  2307811   \n",
       "1          WOLFGANG EXPRESS  WOLFGANG PUCK EXPRESS (T3 K12)    34199   \n",
       "2                  PASTORAL                    BAR PASTORAL  2157189   \n",
       "3               JIEYI SUSHI                     JIEYI SUSHI  2506880   \n",
       "4  GHAREEB NAWAZ RESTAURANT        GHAREEB NAWAZ RESTAURANT  2423912   \n",
       "\n",
       "  Facility Type  Risk                   Address     City State      Zip  \\\n",
       "0    Restaurant  High         2455 S KEDZIE AVE  CHICAGO    IL  60623.0   \n",
       "1    Restaurant  High         11601 W TOUHY AVE  CHICAGO    IL  60666.0   \n",
       "2    Restaurant  High  2945-2947 N BROADWAY AVE  CHICAGO    IL  60657.0   \n",
       "3    Restaurant  High      1178 N MILWAUKEE AVE  CHICAGO    IL  60642.0   \n",
       "4    Restaurant  High     2032-2036 W Devon AVE  CHICAGO    IL  60659.0   \n",
       "\n",
       "  Inspection Date           Inspection Type             Results  \\\n",
       "0         12/4/18   Complaint Re-Inspection                Fail   \n",
       "1         3/26/19                   Canvass                Fail   \n",
       "2          8/2/19                   Canvass  Pass w/ Conditions   \n",
       "3         6/25/19     Canvass Re-Inspection  Pass w/ Conditions   \n",
       "4          4/2/19  Suspected Food Poisoning  Pass w/ Conditions   \n",
       "\n",
       "                                          Violations   Latitude  Longitude  \\\n",
       "0  3. MANAGEMENT, FOOD EMPLOYEE AND CONDITIONAL E...  41.846539 -87.704953   \n",
       "1  10. ADEQUATE HANDWASHING SINKS PROPERLY SUPPLI...  42.008536 -87.914428   \n",
       "2  1. PERSON IN CHARGE PRESENT, DEMONSTRATES KNOW...  41.936248 -87.644121   \n",
       "3  23. PROPER DATE MARKING AND DISPOSITION - Comm...  41.903119 -87.666337   \n",
       "4  3. MANAGEMENT, FOOD EMPLOYEE AND CONDITIONAL E...  41.997984 -87.681420   \n",
       "\n",
       "                                   Location  y  complaint  reinspection  \n",
       "0  (41.846538888991475, -87.70495285575998)  1          1             1  \n",
       "1  (42.008536400868735, -87.91442843927047)  1          0             0  \n",
       "2   (41.93624830273888, -87.64412091275041)  0          0             0  \n",
       "3    (41.90311911873191, -87.6663365256722)  0          0             1  \n",
       "4   (41.99798375025185, -87.68142044788961)  0          1             0  "
      ]
     },
     "execution_count": 10,
     "metadata": {},
     "output_type": "execute_result"
    }
   ],
   "source": [
    "df['y'] = np.where(df['Results']=='Fail',1,0)\n",
    "df['complaint'] = np.where((df['Inspection Type'].str.contains('Complaint'))\n",
    "                                    |(df['Inspection Type'].str.contains('Poisoning')),1,0)\n",
    "df['reinspection'] = np.where(df['Inspection Type'].str.contains('nspection'),1,0)\n",
    "df.head(5)"
   ]
  },
  {
   "cell_type": "code",
   "execution_count": 11,
   "metadata": {},
   "outputs": [],
   "source": [
    "df['index'] = df.index"
   ]
  },
  {
   "cell_type": "code",
   "execution_count": 12,
   "metadata": {},
   "outputs": [],
   "source": [
    "# Get the violation numbers from Violation column\n",
    "a = df['Violations'].str.extractall('(\\d+\\.)')\n",
    "a = a[~a[0].astype(str).str.startswith('0')]\n",
    "a = a.reset_index(level=1, drop=True)\n",
    "\n",
    "# replace .\n",
    "a = a[0]\n",
    "a = a.str.replace(r'\\.','')"
   ]
  },
  {
   "cell_type": "code",
   "execution_count": 13,
   "metadata": {},
   "outputs": [],
   "source": [
    "# To remove duplicates within the list of violations\n",
    "def remove_duplicates(values):\n",
    "    output = []\n",
    "    seen = set()\n",
    "    for i in values:\n",
    "        if i not in seen:\n",
    "            output.append(i)\n",
    "            seen.add(i)\n",
    "    return output"
   ]
  },
  {
   "cell_type": "code",
   "execution_count": 14,
   "metadata": {},
   "outputs": [],
   "source": [
    "v = []\n",
    "ind = []\n",
    "count = []\n",
    "index = df.index\n",
    "for i in range(len(index)):\n",
    "    try:\n",
    "        # Remove duplicates from this list.\n",
    "        b = np.array(a[index[i]])\n",
    "        if len(b) > 1:\n",
    "            violations = remove_duplicates(b)   \n",
    "            v.append(violations)\n",
    "        ind.append(index[i])\n",
    "        count.append(len(violations))\n",
    "    except TypeError:\n",
    "        v.append(a[index[i]])\n",
    "        ind.append(index[i])\n",
    "        count.append(1)\n",
    "        continue\n",
    "    except:\n",
    "        v.append(0)\n",
    "        ind.append(index[i])\n",
    "        count.append(0)\n",
    "        continue"
   ]
  },
  {
   "cell_type": "code",
   "execution_count": 15,
   "metadata": {},
   "outputs": [],
   "source": [
    "vio = pd.DataFrame({'Violations':v})\n",
    "vio = np.asarray(vio['Violations'])\n",
    "vio = pd.DataFrame({'Violations':vio})\n",
    "vio['index'] = ind\n",
    "vio['No. of Violations'] = count"
   ]
  },
  {
   "cell_type": "code",
   "execution_count": 16,
   "metadata": {},
   "outputs": [
    {
     "data": {
      "text/html": [
       "<div>\n",
       "<style scoped>\n",
       "    .dataframe tbody tr th:only-of-type {\n",
       "        vertical-align: middle;\n",
       "    }\n",
       "\n",
       "    .dataframe tbody tr th {\n",
       "        vertical-align: top;\n",
       "    }\n",
       "\n",
       "    .dataframe thead th {\n",
       "        text-align: right;\n",
       "    }\n",
       "</style>\n",
       "<table border=\"1\" class=\"dataframe\">\n",
       "  <thead>\n",
       "    <tr style=\"text-align: right;\">\n",
       "      <th></th>\n",
       "      <th>Violations</th>\n",
       "      <th>index</th>\n",
       "      <th>No. of Violations</th>\n",
       "    </tr>\n",
       "  </thead>\n",
       "  <tbody>\n",
       "    <tr>\n",
       "      <td>0</td>\n",
       "      <td>[3, 5, 23, 25, 37, 38, 18, 41, 44, 45, 47, 49,...</td>\n",
       "      <td>0</td>\n",
       "      <td>15</td>\n",
       "    </tr>\n",
       "    <tr>\n",
       "      <td>1</td>\n",
       "      <td>[10, 36, 49, 51, 55, 56, 57, 60]</td>\n",
       "      <td>1</td>\n",
       "      <td>8</td>\n",
       "    </tr>\n",
       "    <tr>\n",
       "      <td>2</td>\n",
       "      <td>[1, 102, 2, 8, 23, 25, 37, 43, 47, 51, 53, 55]</td>\n",
       "      <td>2</td>\n",
       "      <td>12</td>\n",
       "    </tr>\n",
       "    <tr>\n",
       "      <td>3</td>\n",
       "      <td>[23, 25, 47, 49, 55]</td>\n",
       "      <td>3</td>\n",
       "      <td>5</td>\n",
       "    </tr>\n",
       "    <tr>\n",
       "      <td>4</td>\n",
       "      <td>[3, 5, 9, 21, 35, 22, 78, 23, 37, 39, 40, 46, ...</td>\n",
       "      <td>4</td>\n",
       "      <td>16</td>\n",
       "    </tr>\n",
       "  </tbody>\n",
       "</table>\n",
       "</div>"
      ],
      "text/plain": [
       "                                          Violations  index  No. of Violations\n",
       "0  [3, 5, 23, 25, 37, 38, 18, 41, 44, 45, 47, 49,...      0                 15\n",
       "1                   [10, 36, 49, 51, 55, 56, 57, 60]      1                  8\n",
       "2     [1, 102, 2, 8, 23, 25, 37, 43, 47, 51, 53, 55]      2                 12\n",
       "3                               [23, 25, 47, 49, 55]      3                  5\n",
       "4  [3, 5, 9, 21, 35, 22, 78, 23, 37, 39, 40, 46, ...      4                 16"
      ]
     },
     "execution_count": 16,
     "metadata": {},
     "output_type": "execute_result"
    }
   ],
   "source": [
    "vio.head()"
   ]
  },
  {
   "cell_type": "code",
   "execution_count": 17,
   "metadata": {},
   "outputs": [],
   "source": [
    "df2 = pd.merge(df, vio, on='index')"
   ]
  },
  {
   "cell_type": "code",
   "execution_count": 18,
   "metadata": {
    "scrolled": true
   },
   "outputs": [
    {
     "data": {
      "text/html": [
       "<div>\n",
       "<style scoped>\n",
       "    .dataframe tbody tr th:only-of-type {\n",
       "        vertical-align: middle;\n",
       "    }\n",
       "\n",
       "    .dataframe tbody tr th {\n",
       "        vertical-align: top;\n",
       "    }\n",
       "\n",
       "    .dataframe thead th {\n",
       "        text-align: right;\n",
       "    }\n",
       "</style>\n",
       "<table border=\"1\" class=\"dataframe\">\n",
       "  <thead>\n",
       "    <tr style=\"text-align: right;\">\n",
       "      <th></th>\n",
       "      <th>DBA Name</th>\n",
       "      <th>AKA Name</th>\n",
       "      <th>license</th>\n",
       "      <th>Facility Type</th>\n",
       "      <th>Risk</th>\n",
       "      <th>Address</th>\n",
       "      <th>City</th>\n",
       "      <th>State</th>\n",
       "      <th>Zip</th>\n",
       "      <th>Inspection Date</th>\n",
       "      <th>...</th>\n",
       "      <th>Violations_x</th>\n",
       "      <th>Latitude</th>\n",
       "      <th>Longitude</th>\n",
       "      <th>Location</th>\n",
       "      <th>y</th>\n",
       "      <th>complaint</th>\n",
       "      <th>reinspection</th>\n",
       "      <th>index</th>\n",
       "      <th>Violations_y</th>\n",
       "      <th>No. of Violations</th>\n",
       "    </tr>\n",
       "  </thead>\n",
       "  <tbody>\n",
       "    <tr>\n",
       "      <td>1</td>\n",
       "      <td>MANOLO'S TAMALES #3</td>\n",
       "      <td>MANOLO'S TAMALES #3</td>\n",
       "      <td>2307811</td>\n",
       "      <td>Restaurant</td>\n",
       "      <td>High</td>\n",
       "      <td>2455 S KEDZIE AVE</td>\n",
       "      <td>CHICAGO</td>\n",
       "      <td>IL</td>\n",
       "      <td>60623.0</td>\n",
       "      <td>12/4/18</td>\n",
       "      <td>...</td>\n",
       "      <td>3. MANAGEMENT, FOOD EMPLOYEE AND CONDITIONAL E...</td>\n",
       "      <td>41.846539</td>\n",
       "      <td>-87.704953</td>\n",
       "      <td>(41.846538888991475, -87.70495285575998)</td>\n",
       "      <td>1</td>\n",
       "      <td>1</td>\n",
       "      <td>1</td>\n",
       "      <td>0</td>\n",
       "      <td>[3, 5, 23, 25, 37, 38, 18, 41, 44, 45, 47, 49,...</td>\n",
       "      <td>15</td>\n",
       "    </tr>\n",
       "    <tr>\n",
       "      <td>2</td>\n",
       "      <td>WOLFGANG EXPRESS</td>\n",
       "      <td>WOLFGANG PUCK EXPRESS (T3 K12)</td>\n",
       "      <td>34199</td>\n",
       "      <td>Restaurant</td>\n",
       "      <td>High</td>\n",
       "      <td>11601 W TOUHY AVE</td>\n",
       "      <td>CHICAGO</td>\n",
       "      <td>IL</td>\n",
       "      <td>60666.0</td>\n",
       "      <td>3/26/19</td>\n",
       "      <td>...</td>\n",
       "      <td>10. ADEQUATE HANDWASHING SINKS PROPERLY SUPPLI...</td>\n",
       "      <td>42.008536</td>\n",
       "      <td>-87.914428</td>\n",
       "      <td>(42.008536400868735, -87.91442843927047)</td>\n",
       "      <td>1</td>\n",
       "      <td>0</td>\n",
       "      <td>0</td>\n",
       "      <td>1</td>\n",
       "      <td>[10, 36, 49, 51, 55, 56, 57, 60]</td>\n",
       "      <td>8</td>\n",
       "    </tr>\n",
       "    <tr>\n",
       "      <td>3</td>\n",
       "      <td>PASTORAL</td>\n",
       "      <td>BAR PASTORAL</td>\n",
       "      <td>2157189</td>\n",
       "      <td>Restaurant</td>\n",
       "      <td>High</td>\n",
       "      <td>2945-2947 N BROADWAY AVE</td>\n",
       "      <td>CHICAGO</td>\n",
       "      <td>IL</td>\n",
       "      <td>60657.0</td>\n",
       "      <td>8/2/19</td>\n",
       "      <td>...</td>\n",
       "      <td>1. PERSON IN CHARGE PRESENT, DEMONSTRATES KNOW...</td>\n",
       "      <td>41.936248</td>\n",
       "      <td>-87.644121</td>\n",
       "      <td>(41.93624830273888, -87.64412091275041)</td>\n",
       "      <td>0</td>\n",
       "      <td>0</td>\n",
       "      <td>0</td>\n",
       "      <td>2</td>\n",
       "      <td>[1, 102, 2, 8, 23, 25, 37, 43, 47, 51, 53, 55]</td>\n",
       "      <td>12</td>\n",
       "    </tr>\n",
       "    <tr>\n",
       "      <td>4</td>\n",
       "      <td>JIEYI SUSHI</td>\n",
       "      <td>JIEYI SUSHI</td>\n",
       "      <td>2506880</td>\n",
       "      <td>Restaurant</td>\n",
       "      <td>High</td>\n",
       "      <td>1178 N MILWAUKEE AVE</td>\n",
       "      <td>CHICAGO</td>\n",
       "      <td>IL</td>\n",
       "      <td>60642.0</td>\n",
       "      <td>6/25/19</td>\n",
       "      <td>...</td>\n",
       "      <td>23. PROPER DATE MARKING AND DISPOSITION - Comm...</td>\n",
       "      <td>41.903119</td>\n",
       "      <td>-87.666337</td>\n",
       "      <td>(41.90311911873191, -87.6663365256722)</td>\n",
       "      <td>0</td>\n",
       "      <td>0</td>\n",
       "      <td>1</td>\n",
       "      <td>3</td>\n",
       "      <td>[23, 25, 47, 49, 55]</td>\n",
       "      <td>5</td>\n",
       "    </tr>\n",
       "    <tr>\n",
       "      <td>5</td>\n",
       "      <td>GHAREEB NAWAZ RESTAURANT</td>\n",
       "      <td>GHAREEB NAWAZ RESTAURANT</td>\n",
       "      <td>2423912</td>\n",
       "      <td>Restaurant</td>\n",
       "      <td>High</td>\n",
       "      <td>2032-2036 W Devon AVE</td>\n",
       "      <td>CHICAGO</td>\n",
       "      <td>IL</td>\n",
       "      <td>60659.0</td>\n",
       "      <td>4/2/19</td>\n",
       "      <td>...</td>\n",
       "      <td>3. MANAGEMENT, FOOD EMPLOYEE AND CONDITIONAL E...</td>\n",
       "      <td>41.997984</td>\n",
       "      <td>-87.681420</td>\n",
       "      <td>(41.99798375025185, -87.68142044788961)</td>\n",
       "      <td>0</td>\n",
       "      <td>1</td>\n",
       "      <td>0</td>\n",
       "      <td>4</td>\n",
       "      <td>[3, 5, 9, 21, 35, 22, 78, 23, 37, 39, 40, 46, ...</td>\n",
       "      <td>16</td>\n",
       "    </tr>\n",
       "  </tbody>\n",
       "</table>\n",
       "<p>5 rows × 22 columns</p>\n",
       "</div>"
      ],
      "text/plain": [
       "                   DBA Name                        AKA Name  license  \\\n",
       "1       MANOLO'S TAMALES #3             MANOLO'S TAMALES #3  2307811   \n",
       "2          WOLFGANG EXPRESS  WOLFGANG PUCK EXPRESS (T3 K12)    34199   \n",
       "3                  PASTORAL                    BAR PASTORAL  2157189   \n",
       "4               JIEYI SUSHI                     JIEYI SUSHI  2506880   \n",
       "5  GHAREEB NAWAZ RESTAURANT        GHAREEB NAWAZ RESTAURANT  2423912   \n",
       "\n",
       "  Facility Type  Risk                   Address     City State      Zip  \\\n",
       "1    Restaurant  High         2455 S KEDZIE AVE  CHICAGO    IL  60623.0   \n",
       "2    Restaurant  High         11601 W TOUHY AVE  CHICAGO    IL  60666.0   \n",
       "3    Restaurant  High  2945-2947 N BROADWAY AVE  CHICAGO    IL  60657.0   \n",
       "4    Restaurant  High      1178 N MILWAUKEE AVE  CHICAGO    IL  60642.0   \n",
       "5    Restaurant  High     2032-2036 W Devon AVE  CHICAGO    IL  60659.0   \n",
       "\n",
       "  Inspection Date  ...                                       Violations_x  \\\n",
       "1         12/4/18  ...  3. MANAGEMENT, FOOD EMPLOYEE AND CONDITIONAL E...   \n",
       "2         3/26/19  ...  10. ADEQUATE HANDWASHING SINKS PROPERLY SUPPLI...   \n",
       "3          8/2/19  ...  1. PERSON IN CHARGE PRESENT, DEMONSTRATES KNOW...   \n",
       "4         6/25/19  ...  23. PROPER DATE MARKING AND DISPOSITION - Comm...   \n",
       "5          4/2/19  ...  3. MANAGEMENT, FOOD EMPLOYEE AND CONDITIONAL E...   \n",
       "\n",
       "    Latitude  Longitude                                  Location  y  \\\n",
       "1  41.846539 -87.704953  (41.846538888991475, -87.70495285575998)  1   \n",
       "2  42.008536 -87.914428  (42.008536400868735, -87.91442843927047)  1   \n",
       "3  41.936248 -87.644121   (41.93624830273888, -87.64412091275041)  0   \n",
       "4  41.903119 -87.666337    (41.90311911873191, -87.6663365256722)  0   \n",
       "5  41.997984 -87.681420   (41.99798375025185, -87.68142044788961)  0   \n",
       "\n",
       "  complaint  reinspection  index  \\\n",
       "1         1             1      0   \n",
       "2         0             0      1   \n",
       "3         0             0      2   \n",
       "4         0             1      3   \n",
       "5         1             0      4   \n",
       "\n",
       "                                        Violations_y  No. of Violations  \n",
       "1  [3, 5, 23, 25, 37, 38, 18, 41, 44, 45, 47, 49,...                 15  \n",
       "2                   [10, 36, 49, 51, 55, 56, 57, 60]                  8  \n",
       "3     [1, 102, 2, 8, 23, 25, 37, 43, 47, 51, 53, 55]                 12  \n",
       "4                               [23, 25, 47, 49, 55]                  5  \n",
       "5  [3, 5, 9, 21, 35, 22, 78, 23, 37, 39, 40, 46, ...                 16  \n",
       "\n",
       "[5 rows x 22 columns]"
      ]
     },
     "execution_count": 18,
     "metadata": {},
     "output_type": "execute_result"
    }
   ],
   "source": [
    "df2.index = np.arange(1,len(df)+1)\n",
    "df2.head(5)"
   ]
  },
  {
   "cell_type": "code",
   "execution_count": 19,
   "metadata": {},
   "outputs": [
    {
     "data": {
      "text/plain": [
       "<matplotlib.axes._subplots.AxesSubplot at 0x1c22be3f90>"
      ]
     },
     "execution_count": 19,
     "metadata": {},
     "output_type": "execute_result"
    },
    {
     "data": {
      "image/png": "[encoded data removed]",
      "text/plain": [
       "<Figure size 648x576 with 1 Axes>"
      ]
     },
     "metadata": {
      "needs_background": "light"
     },
     "output_type": "display_data"
    }
   ],
   "source": [
    "plt.figure(figsize=(9, 8))\n",
    "sns.countplot(df2.Results)"
   ]
  },
  {
   "cell_type": "markdown",
   "metadata": {},
   "source": [
    "### Data Analysis"
   ]
  },
  {
   "cell_type": "code",
   "execution_count": 20,
   "metadata": {},
   "outputs": [
    {
     "data": {
      "text/plain": [
       "<matplotlib.axes._subplots.AxesSubplot at 0x1c22be1550>"
      ]
     },
     "execution_count": 20,
     "metadata": {},
     "output_type": "execute_result"
    },
    {
     "data": {
      "image/png": "[encoded data removed]",
      "text/plain": [
       "<Figure size 648x576 with 1 Axes>"
      ]
     },
     "metadata": {
      "needs_background": "light"
     },
     "output_type": "display_data"
    }
   ],
   "source": [
    "plt.figure(figsize=(9, 8))\n",
    "sns.countplot(df2.Risk)"
   ]
  },
  {
   "cell_type": "markdown",
   "metadata": {},
   "source": [
    "### Top 10 food chains with highest inspection failure"
   ]
  },
  {
   "cell_type": "code",
   "execution_count": 21,
   "metadata": {
    "scrolled": true
   },
   "outputs": [
    {
     "data": {
      "text/html": [
       "<div>\n",
       "<style scoped>\n",
       "    .dataframe tbody tr th:only-of-type {\n",
       "        vertical-align: middle;\n",
       "    }\n",
       "\n",
       "    .dataframe tbody tr th {\n",
       "        vertical-align: top;\n",
       "    }\n",
       "\n",
       "    .dataframe thead th {\n",
       "        text-align: right;\n",
       "    }\n",
       "</style>\n",
       "<table border=\"1\" class=\"dataframe\">\n",
       "  <thead>\n",
       "    <tr style=\"text-align: right;\">\n",
       "      <th></th>\n",
       "      <th>Failure Count</th>\n",
       "    </tr>\n",
       "    <tr>\n",
       "      <th>DBA Name</th>\n",
       "      <th></th>\n",
       "    </tr>\n",
       "  </thead>\n",
       "  <tbody>\n",
       "    <tr>\n",
       "      <td>SUBWAY</td>\n",
       "      <td>315</td>\n",
       "    </tr>\n",
       "    <tr>\n",
       "      <td>DUNKIN DONUTS</td>\n",
       "      <td>191</td>\n",
       "    </tr>\n",
       "    <tr>\n",
       "      <td>MCDONALD'S</td>\n",
       "      <td>88</td>\n",
       "    </tr>\n",
       "    <tr>\n",
       "      <td>MCDONALDS</td>\n",
       "      <td>53</td>\n",
       "    </tr>\n",
       "    <tr>\n",
       "      <td>POTBELLY SANDWICH WORKS LLC</td>\n",
       "      <td>50</td>\n",
       "    </tr>\n",
       "    <tr>\n",
       "      <td>HAROLD'S CHICKEN SHACK</td>\n",
       "      <td>41</td>\n",
       "    </tr>\n",
       "    <tr>\n",
       "      <td>DUNKIN DONUTS/BASKIN ROBBINS</td>\n",
       "      <td>40</td>\n",
       "    </tr>\n",
       "    <tr>\n",
       "      <td>CHIPOTLE MEXICAN GRILL</td>\n",
       "      <td>40</td>\n",
       "    </tr>\n",
       "    <tr>\n",
       "      <td>LAS ISLAS MARIAS</td>\n",
       "      <td>38</td>\n",
       "    </tr>\n",
       "    <tr>\n",
       "      <td>POTBELLY SANDWICH WORKS</td>\n",
       "      <td>36</td>\n",
       "    </tr>\n",
       "  </tbody>\n",
       "</table>\n",
       "</div>"
      ],
      "text/plain": [
       "                              Failure Count\n",
       "DBA Name                                   \n",
       "SUBWAY                                  315\n",
       "DUNKIN DONUTS                           191\n",
       "MCDONALD'S                               88\n",
       "MCDONALDS                                53\n",
       "POTBELLY SANDWICH WORKS LLC              50\n",
       "HAROLD'S CHICKEN SHACK                   41\n",
       "DUNKIN DONUTS/BASKIN ROBBINS             40\n",
       "CHIPOTLE MEXICAN GRILL                   40\n",
       "LAS ISLAS MARIAS                         38\n",
       "POTBELLY SANDWICH WORKS                  36"
      ]
     },
     "execution_count": 21,
     "metadata": {},
     "output_type": "execute_result"
    }
   ],
   "source": [
    "df_fail = df2[df2.Results.isin([\"Fail\"])]\n",
    "Fail = pd.DataFrame(df_fail.groupby('DBA Name')['Results'].count())\n",
    "Fail.rename(columns={\"Results\": \"Failure Count\"}, inplace=True)\n",
    "Fail = Fail.sort_values(by ='Failure Count', ascending=False )\n",
    "Fail.head(10)"
   ]
  },
  {
   "cell_type": "markdown",
   "metadata": {},
   "source": [
    "### Top 10 food chains with highest Violation count"
   ]
  },
  {
   "cell_type": "code",
   "execution_count": 22,
   "metadata": {
    "scrolled": false
   },
   "outputs": [
    {
     "data": {
      "text/html": [
       "<div>\n",
       "<style scoped>\n",
       "    .dataframe tbody tr th:only-of-type {\n",
       "        vertical-align: middle;\n",
       "    }\n",
       "\n",
       "    .dataframe tbody tr th {\n",
       "        vertical-align: top;\n",
       "    }\n",
       "\n",
       "    .dataframe thead th {\n",
       "        text-align: right;\n",
       "    }\n",
       "</style>\n",
       "<table border=\"1\" class=\"dataframe\">\n",
       "  <thead>\n",
       "    <tr style=\"text-align: right;\">\n",
       "      <th></th>\n",
       "      <th>Violation Count</th>\n",
       "    </tr>\n",
       "    <tr>\n",
       "      <th>DBA Name</th>\n",
       "      <th></th>\n",
       "    </tr>\n",
       "  </thead>\n",
       "  <tbody>\n",
       "    <tr>\n",
       "      <td>SUBWAY</td>\n",
       "      <td>2364</td>\n",
       "    </tr>\n",
       "    <tr>\n",
       "      <td>DUNKIN DONUTS</td>\n",
       "      <td>1231</td>\n",
       "    </tr>\n",
       "    <tr>\n",
       "      <td>MCDONALD'S</td>\n",
       "      <td>460</td>\n",
       "    </tr>\n",
       "    <tr>\n",
       "      <td>CHIPOTLE MEXICAN GRILL</td>\n",
       "      <td>290</td>\n",
       "    </tr>\n",
       "    <tr>\n",
       "      <td>MCDONALDS</td>\n",
       "      <td>269</td>\n",
       "    </tr>\n",
       "    <tr>\n",
       "      <td>POTBELLY SANDWICH WORKS LLC</td>\n",
       "      <td>254</td>\n",
       "    </tr>\n",
       "    <tr>\n",
       "      <td>POTBELLY SANDWICH WORKS</td>\n",
       "      <td>225</td>\n",
       "    </tr>\n",
       "    <tr>\n",
       "      <td>CORNER BAKERY CAFE</td>\n",
       "      <td>219</td>\n",
       "    </tr>\n",
       "    <tr>\n",
       "      <td>DUNKIN DONUTS/BASKIN ROBBINS</td>\n",
       "      <td>207</td>\n",
       "    </tr>\n",
       "    <tr>\n",
       "      <td>FRESHII</td>\n",
       "      <td>201</td>\n",
       "    </tr>\n",
       "  </tbody>\n",
       "</table>\n",
       "</div>"
      ],
      "text/plain": [
       "                              Violation Count\n",
       "DBA Name                                     \n",
       "SUBWAY                                   2364\n",
       "DUNKIN DONUTS                            1231\n",
       "MCDONALD'S                                460\n",
       "CHIPOTLE MEXICAN GRILL                    290\n",
       "MCDONALDS                                 269\n",
       "POTBELLY SANDWICH WORKS LLC               254\n",
       "POTBELLY SANDWICH WORKS                   225\n",
       "CORNER BAKERY CAFE                        219\n",
       "DUNKIN DONUTS/BASKIN ROBBINS              207\n",
       "FRESHII                                   201"
      ]
     },
     "execution_count": 22,
     "metadata": {},
     "output_type": "execute_result"
    }
   ],
   "source": [
    "Violation = pd.DataFrame(df2.groupby('DBA Name')['No. of Violations'].count())\n",
    "Violation.rename(columns={\"No. of Violations\": \"Violation Count\"}, inplace=True)\n",
    "Violation = Violation.sort_values(by ='Violation Count', ascending=False )\n",
    "Violation.head(10)"
   ]
  },
  {
   "cell_type": "markdown",
   "metadata": {},
   "source": [
    "### Top 10 Zip with highest Violation count"
   ]
  },
  {
   "cell_type": "code",
   "execution_count": 23,
   "metadata": {},
   "outputs": [
    {
     "data": {
      "text/html": [
       "<div>\n",
       "<style scoped>\n",
       "    .dataframe tbody tr th:only-of-type {\n",
       "        vertical-align: middle;\n",
       "    }\n",
       "\n",
       "    .dataframe tbody tr th {\n",
       "        vertical-align: top;\n",
       "    }\n",
       "\n",
       "    .dataframe thead th {\n",
       "        text-align: right;\n",
       "    }\n",
       "</style>\n",
       "<table border=\"1\" class=\"dataframe\">\n",
       "  <thead>\n",
       "    <tr style=\"text-align: right;\">\n",
       "      <th></th>\n",
       "      <th>Violation Count</th>\n",
       "    </tr>\n",
       "    <tr>\n",
       "      <th>Zip</th>\n",
       "      <th></th>\n",
       "    </tr>\n",
       "  </thead>\n",
       "  <tbody>\n",
       "    <tr>\n",
       "      <td>60611.0</td>\n",
       "      <td>4794</td>\n",
       "    </tr>\n",
       "    <tr>\n",
       "      <td>60614.0</td>\n",
       "      <td>4697</td>\n",
       "    </tr>\n",
       "    <tr>\n",
       "      <td>60657.0</td>\n",
       "      <td>4404</td>\n",
       "    </tr>\n",
       "    <tr>\n",
       "      <td>60647.0</td>\n",
       "      <td>4070</td>\n",
       "    </tr>\n",
       "    <tr>\n",
       "      <td>60622.0</td>\n",
       "      <td>3612</td>\n",
       "    </tr>\n",
       "    <tr>\n",
       "      <td>60607.0</td>\n",
       "      <td>3610</td>\n",
       "    </tr>\n",
       "    <tr>\n",
       "      <td>60654.0</td>\n",
       "      <td>3386</td>\n",
       "    </tr>\n",
       "    <tr>\n",
       "      <td>60618.0</td>\n",
       "      <td>3126</td>\n",
       "    </tr>\n",
       "    <tr>\n",
       "      <td>60640.0</td>\n",
       "      <td>3081</td>\n",
       "    </tr>\n",
       "    <tr>\n",
       "      <td>60625.0</td>\n",
       "      <td>2917</td>\n",
       "    </tr>\n",
       "  </tbody>\n",
       "</table>\n",
       "</div>"
      ],
      "text/plain": [
       "         Violation Count\n",
       "Zip                     \n",
       "60611.0             4794\n",
       "60614.0             4697\n",
       "60657.0             4404\n",
       "60647.0             4070\n",
       "60622.0             3612\n",
       "60607.0             3610\n",
       "60654.0             3386\n",
       "60618.0             3126\n",
       "60640.0             3081\n",
       "60625.0             2917"
      ]
     },
     "execution_count": 23,
     "metadata": {},
     "output_type": "execute_result"
    }
   ],
   "source": [
    "Zip = pd.DataFrame(df2.groupby('Zip')['No. of Violations'].count())\n",
    "Zip.rename(columns={\"No. of Violations\": \"Violation Count\"}, inplace=True)\n",
    "Zip = Zip.sort_values(by ='Violation Count', ascending=False )\n",
    "Zip.head(10)"
   ]
  },
  {
   "cell_type": "markdown",
   "metadata": {},
   "source": [
    "### Top 10 Zip with highest Complaints"
   ]
  },
  {
   "cell_type": "code",
   "execution_count": 24,
   "metadata": {
    "scrolled": true
   },
   "outputs": [
    {
     "data": {
      "text/html": [
       "<div>\n",
       "<style scoped>\n",
       "    .dataframe tbody tr th:only-of-type {\n",
       "        vertical-align: middle;\n",
       "    }\n",
       "\n",
       "    .dataframe tbody tr th {\n",
       "        vertical-align: top;\n",
       "    }\n",
       "\n",
       "    .dataframe thead th {\n",
       "        text-align: right;\n",
       "    }\n",
       "</style>\n",
       "<table border=\"1\" class=\"dataframe\">\n",
       "  <thead>\n",
       "    <tr style=\"text-align: right;\">\n",
       "      <th></th>\n",
       "      <th>Complaint Count</th>\n",
       "    </tr>\n",
       "    <tr>\n",
       "      <th>Zip</th>\n",
       "      <th></th>\n",
       "    </tr>\n",
       "  </thead>\n",
       "  <tbody>\n",
       "    <tr>\n",
       "      <td>60611.0</td>\n",
       "      <td>4794</td>\n",
       "    </tr>\n",
       "    <tr>\n",
       "      <td>60614.0</td>\n",
       "      <td>4697</td>\n",
       "    </tr>\n",
       "    <tr>\n",
       "      <td>60657.0</td>\n",
       "      <td>4404</td>\n",
       "    </tr>\n",
       "    <tr>\n",
       "      <td>60647.0</td>\n",
       "      <td>4070</td>\n",
       "    </tr>\n",
       "    <tr>\n",
       "      <td>60622.0</td>\n",
       "      <td>3612</td>\n",
       "    </tr>\n",
       "    <tr>\n",
       "      <td>60607.0</td>\n",
       "      <td>3610</td>\n",
       "    </tr>\n",
       "    <tr>\n",
       "      <td>60654.0</td>\n",
       "      <td>3386</td>\n",
       "    </tr>\n",
       "    <tr>\n",
       "      <td>60618.0</td>\n",
       "      <td>3126</td>\n",
       "    </tr>\n",
       "    <tr>\n",
       "      <td>60640.0</td>\n",
       "      <td>3081</td>\n",
       "    </tr>\n",
       "    <tr>\n",
       "      <td>60625.0</td>\n",
       "      <td>2917</td>\n",
       "    </tr>\n",
       "  </tbody>\n",
       "</table>\n",
       "</div>"
      ],
      "text/plain": [
       "         Complaint Count\n",
       "Zip                     \n",
       "60611.0             4794\n",
       "60614.0             4697\n",
       "60657.0             4404\n",
       "60647.0             4070\n",
       "60622.0             3612\n",
       "60607.0             3610\n",
       "60654.0             3386\n",
       "60618.0             3126\n",
       "60640.0             3081\n",
       "60625.0             2917"
      ]
     },
     "execution_count": 24,
     "metadata": {},
     "output_type": "execute_result"
    }
   ],
   "source": [
    "complaint = pd.DataFrame(df2.groupby('Zip')['complaint'].count())\n",
    "complaint.rename(columns={\"complaint\": \"Complaint Count\"}, inplace=True)\n",
    "complaint = complaint.sort_values(by ='Complaint Count', ascending=False )\n",
    "complaint.head(10)"
   ]
  },
  {
   "cell_type": "markdown",
   "metadata": {},
   "source": [
    "### Modeling"
   ]
  },
  {
   "cell_type": "code",
   "execution_count": 25,
   "metadata": {},
   "outputs": [
    {
     "data": {
      "text/plain": [
       "Index(['DBA Name', 'AKA Name', 'license', 'Facility Type', 'Risk', 'Address',\n",
       "       'City', 'State', 'Zip', 'Inspection Date', 'Inspection Type', 'Results',\n",
       "       'Violations_x', 'Latitude', 'Longitude', 'Location', 'y', 'complaint',\n",
       "       'reinspection', 'index', 'Violations_y', 'No. of Violations'],\n",
       "      dtype='object')"
      ]
     },
     "execution_count": 25,
     "metadata": {},
     "output_type": "execute_result"
    }
   ],
   "source": [
    "df2.columns"
   ]
  },
  {
   "cell_type": "code",
   "execution_count": 26,
   "metadata": {},
   "outputs": [],
   "source": [
    "X = df2[['Risk', 'complaint', 'reinspection','No. of Violations']]\n",
    "y = df2[['y']]"
   ]
  },
  {
   "cell_type": "code",
   "execution_count": 27,
   "metadata": {
    "scrolled": true
   },
   "outputs": [
    {
     "data": {
      "text/html": [
       "<div>\n",
       "<style scoped>\n",
       "    .dataframe tbody tr th:only-of-type {\n",
       "        vertical-align: middle;\n",
       "    }\n",
       "\n",
       "    .dataframe tbody tr th {\n",
       "        vertical-align: top;\n",
       "    }\n",
       "\n",
       "    .dataframe thead th {\n",
       "        text-align: right;\n",
       "    }\n",
       "</style>\n",
       "<table border=\"1\" class=\"dataframe\">\n",
       "  <thead>\n",
       "    <tr style=\"text-align: right;\">\n",
       "      <th></th>\n",
       "      <th>complaint</th>\n",
       "      <th>reinspection</th>\n",
       "      <th>No. of Violations</th>\n",
       "      <th>Risk__High</th>\n",
       "      <th>Risk__Low</th>\n",
       "      <th>Risk__Medium</th>\n",
       "    </tr>\n",
       "  </thead>\n",
       "  <tbody>\n",
       "    <tr>\n",
       "      <td>1</td>\n",
       "      <td>1</td>\n",
       "      <td>1</td>\n",
       "      <td>15</td>\n",
       "      <td>1</td>\n",
       "      <td>0</td>\n",
       "      <td>0</td>\n",
       "    </tr>\n",
       "    <tr>\n",
       "      <td>2</td>\n",
       "      <td>0</td>\n",
       "      <td>0</td>\n",
       "      <td>8</td>\n",
       "      <td>1</td>\n",
       "      <td>0</td>\n",
       "      <td>0</td>\n",
       "    </tr>\n",
       "    <tr>\n",
       "      <td>3</td>\n",
       "      <td>0</td>\n",
       "      <td>0</td>\n",
       "      <td>12</td>\n",
       "      <td>1</td>\n",
       "      <td>0</td>\n",
       "      <td>0</td>\n",
       "    </tr>\n",
       "    <tr>\n",
       "      <td>4</td>\n",
       "      <td>0</td>\n",
       "      <td>1</td>\n",
       "      <td>5</td>\n",
       "      <td>1</td>\n",
       "      <td>0</td>\n",
       "      <td>0</td>\n",
       "    </tr>\n",
       "    <tr>\n",
       "      <td>5</td>\n",
       "      <td>1</td>\n",
       "      <td>0</td>\n",
       "      <td>16</td>\n",
       "      <td>1</td>\n",
       "      <td>0</td>\n",
       "      <td>0</td>\n",
       "    </tr>\n",
       "    <tr>\n",
       "      <td>...</td>\n",
       "      <td>...</td>\n",
       "      <td>...</td>\n",
       "      <td>...</td>\n",
       "      <td>...</td>\n",
       "      <td>...</td>\n",
       "      <td>...</td>\n",
       "    </tr>\n",
       "    <tr>\n",
       "      <td>107491</td>\n",
       "      <td>0</td>\n",
       "      <td>1</td>\n",
       "      <td>0</td>\n",
       "      <td>1</td>\n",
       "      <td>0</td>\n",
       "      <td>0</td>\n",
       "    </tr>\n",
       "    <tr>\n",
       "      <td>107492</td>\n",
       "      <td>0</td>\n",
       "      <td>0</td>\n",
       "      <td>0</td>\n",
       "      <td>0</td>\n",
       "      <td>0</td>\n",
       "      <td>1</td>\n",
       "    </tr>\n",
       "    <tr>\n",
       "      <td>107493</td>\n",
       "      <td>1</td>\n",
       "      <td>0</td>\n",
       "      <td>3</td>\n",
       "      <td>0</td>\n",
       "      <td>0</td>\n",
       "      <td>1</td>\n",
       "    </tr>\n",
       "    <tr>\n",
       "      <td>107494</td>\n",
       "      <td>0</td>\n",
       "      <td>0</td>\n",
       "      <td>2</td>\n",
       "      <td>0</td>\n",
       "      <td>0</td>\n",
       "      <td>1</td>\n",
       "    </tr>\n",
       "    <tr>\n",
       "      <td>107495</td>\n",
       "      <td>0</td>\n",
       "      <td>0</td>\n",
       "      <td>5</td>\n",
       "      <td>1</td>\n",
       "      <td>0</td>\n",
       "      <td>0</td>\n",
       "    </tr>\n",
       "  </tbody>\n",
       "</table>\n",
       "<p>107495 rows × 6 columns</p>\n",
       "</div>"
      ],
      "text/plain": [
       "        complaint  reinspection  No. of Violations  Risk__High  Risk__Low  \\\n",
       "1               1             1                 15           1          0   \n",
       "2               0             0                  8           1          0   \n",
       "3               0             0                 12           1          0   \n",
       "4               0             1                  5           1          0   \n",
       "5               1             0                 16           1          0   \n",
       "...           ...           ...                ...         ...        ...   \n",
       "107491          0             1                  0           1          0   \n",
       "107492          0             0                  0           0          0   \n",
       "107493          1             0                  3           0          0   \n",
       "107494          0             0                  2           0          0   \n",
       "107495          0             0                  5           1          0   \n",
       "\n",
       "        Risk__Medium  \n",
       "1                  0  \n",
       "2                  0  \n",
       "3                  0  \n",
       "4                  0  \n",
       "5                  0  \n",
       "...              ...  \n",
       "107491             0  \n",
       "107492             1  \n",
       "107493             1  \n",
       "107494             1  \n",
       "107495             0  \n",
       "\n",
       "[107495 rows x 6 columns]"
      ]
     },
     "execution_count": 27,
     "metadata": {},
     "output_type": "execute_result"
    }
   ],
   "source": [
    "# generate binary values using get_dummies\n",
    "X = pd.get_dummies(X, columns=[\"Risk\"], prefix=[\"Risk_\"] )\n",
    "X"
   ]
  },
  {
   "cell_type": "code",
   "execution_count": 28,
   "metadata": {},
   "outputs": [],
   "source": [
    "X_train, X_test, y_train, y_test = model_selection.train_test_split(X,\n",
    "                                                                    y,\n",
    "                                                                    test_size=0.2)"
   ]
  },
  {
   "cell_type": "code",
   "execution_count": 29,
   "metadata": {},
   "outputs": [],
   "source": [
    "rf = RandomForestClassifier(n_estimators=1000,\n",
    "                           criterion='entropy',\n",
    "                           max_features=2,\n",
    "                           n_jobs=-1,\n",
    "                           class_weight='balanced')"
   ]
  },
  {
   "cell_type": "code",
   "execution_count": 30,
   "metadata": {},
   "outputs": [
    {
     "data": {
      "text/plain": [
       "RandomForestClassifier(bootstrap=True, class_weight='balanced',\n",
       "                       criterion='entropy', max_depth=None, max_features=2,\n",
       "                       max_leaf_nodes=None, min_impurity_decrease=0.0,\n",
       "                       min_impurity_split=None, min_samples_leaf=1,\n",
       "                       min_samples_split=2, min_weight_fraction_leaf=0.0,\n",
       "                       n_estimators=1000, n_jobs=-1, oob_score=False,\n",
       "                       random_state=None, verbose=0, warm_start=False)"
      ]
     },
     "execution_count": 30,
     "metadata": {},
     "output_type": "execute_result"
    }
   ],
   "source": [
    "rf.fit(X_train,y_train)"
   ]
  },
  {
   "cell_type": "markdown",
   "metadata": {},
   "source": [
    "### Feature Importance"
   ]
  },
  {
   "cell_type": "code",
   "execution_count": 31,
   "metadata": {},
   "outputs": [
    {
     "data": {
      "text/plain": [
       "[(0.7850866154575782, 'No. of Violations'),\n",
       " (0.1958055078121079, 'reinspection'),\n",
       " (0.009897199977513363, 'complaint'),\n",
       " (0.0033458710500184, 'Risk__Low'),\n",
       " (0.0030304974703297123, 'Risk__High'),\n",
       " (0.002834308232452419, 'Risk__Medium')]"
      ]
     },
     "execution_count": 31,
     "metadata": {},
     "output_type": "execute_result"
    }
   ],
   "source": [
    "importances = list(zip(rf.feature_importances_, X.columns))\n",
    "importances.sort(reverse=True)\n",
    "importances"
   ]
  },
  {
   "cell_type": "code",
   "execution_count": 32,
   "metadata": {},
   "outputs": [
    {
     "data": {
      "text/plain": [
       "<matplotlib.axes._subplots.AxesSubplot at 0x1c25ce6950>"
      ]
     },
     "execution_count": 32,
     "metadata": {},
     "output_type": "execute_result"
    },
    {
     "data": {
      "image/png": "[encoded data removed]",
      "text/plain": [
       "<Figure size 432x288 with 1 Axes>"
      ]
     },
     "metadata": {
      "needs_background": "light"
     },
     "output_type": "display_data"
    }
   ],
   "source": [
    "# Plotting feature importance\n",
    "pd.DataFrame(importances, index=[x for (_,x) in importances]).plot(kind = 'bar', legend = False)"
   ]
  },
  {
   "cell_type": "markdown",
   "metadata": {},
   "source": [
    "We can see above feature importance plot and number of violation follows by reinspection and complaints are top three important feature to explain out model"
   ]
  },
  {
   "cell_type": "code",
   "execution_count": 33,
   "metadata": {},
   "outputs": [],
   "source": [
    "y_pred = rf.predict(X_test)"
   ]
  },
  {
   "cell_type": "code",
   "execution_count": 34,
   "metadata": {},
   "outputs": [
    {
     "name": "stdout",
     "output_type": "stream",
     "text": [
      "Accuracy: 0.6856597981301455\n"
     ]
    }
   ],
   "source": [
    "print(\"Accuracy:\",metrics.accuracy_score(y_test, y_pred))"
   ]
  },
  {
   "cell_type": "markdown",
   "metadata": {},
   "source": [
    "### Exporting results to CSV file"
   ]
  },
  {
   "cell_type": "code",
   "execution_count": 37,
   "metadata": {},
   "outputs": [],
   "source": [
    "result = pd.DataFrame(y_pred)\n",
    "result.index = X_test.index # for comparison later\n",
    "result.columns = [\"prediction\"]\n",
    "result.to_csv(\"inspectionprediction.csv\")"
   ]
  },
  {
   "cell_type": "markdown",
   "metadata": {},
   "source": [
    "### Saving Model to a Pickle"
   ]
  },
  {
   "cell_type": "code",
   "execution_count": 38,
   "metadata": {},
   "outputs": [],
   "source": [
    "import pickle\n",
    "filename = 'model.sav'\n",
    "pickle.dump(rf, open(filename, 'wb'))"
   ]
  },
  {
   "cell_type": "markdown",
   "metadata": {},
   "source": [
    "### Thought process\n",
    "\n",
    "#### How you decide to define the target variable for your model \n",
    "I generated target variable by using result column. For my primary analysis I only considered the cases where the results are fail , pass or pass with condition in the result column and then I created a target variable y using condition where the result is fail its 1 else 0.\n",
    "\n",
    "#### How you approach training, validation, test, and prediction\n",
    "I divided the data into 80:20 ratio for train and test datasets\n",
    "\n",
    "#### What features you explore\n",
    "I have created a violation count features from violations and violation_y feature which only consider the voilation id. to further analyze this I found violation couont for SUBWAY, DUNKIN DONUTS, MCDONALD'S, CHIPOTLE MEXICAN GRILL is highest and on further analysis I found that these are the same food chain with highest number of failed inspection results.\n",
    "\n",
    "I also have created a feature complaint and reinspection variables.\n",
    "\n",
    "#### How you assess your features and their impact on you predictions\n",
    "\n",
    "I have plotted random forest feature importance barplot\n",
    "\n",
    "\n",
    "#### How you assess model performance\n",
    "I have used accuracy metric to assess model perfromance\n",
    "\n",
    "\n",
    "#### Scope which could not be implemented in this Notebook\n",
    "\n",
    "- We can use natural language processing to find the keywords for major violations and then use dimentionality reduction techniques(PCA) to identify most important keywords.\n",
    "\n",
    "- We can plot the inspection failure restaurant zip code wise on the map and see which area in the city of chicago has more failures visually\n",
    "\n",
    "- We can consider more than just two class for target variable ( now it's fail or pass)\n"
   ]
  },
  {
   "cell_type": "markdown",
   "metadata": {},
   "source": [
    "<p>"
   ]
  }
 ],
 "metadata": {
  "kernelspec": {
   "display_name": "Python 3",
   "language": "python",
   "name": "python3"
  },
  "language_info": {
   "codemirror_mode": {
    "name": "ipython",
    "version": 3
   },
   "file_extension": ".py",
   "mimetype": "text/x-python",
   "name": "python",
   "nbconvert_exporter": "python",
   "pygments_lexer": "ipython3",
   "version": "3.7.4"
  }
 },
 "nbformat": 4,
 "nbformat_minor": 4
}
